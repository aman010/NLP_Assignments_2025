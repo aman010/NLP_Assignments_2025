{
 "cells": [
  {
   "cell_type": "code",
   "execution_count": 2,
   "id": "61a636cb-8256-4456-aca6-77e56ef33989",
   "metadata": {},
   "outputs": [],
   "source": [
    "import pandas as pd\n",
    "import kagglehub \n",
    "import torch \n",
    "from torch import nn\n",
    "from datasets import Dataset, DatasetDict\n",
    "from sklearn.model_selection import train_test_split\n",
    "from torch.utils.data import DataLoader\n",
    "from fast_ml.model_development import train_valid_test_split"
   ]
  },
  {
   "cell_type": "code",
   "execution_count": 3,
   "id": "1841e2e4-4263-4e47-890b-cc351be15ea8",
   "metadata": {},
   "outputs": [
    {
     "name": "stdout",
     "output_type": "stream",
     "text": [
      "Warning: Looks like you're using an outdated `kagglehub` version (installed: 0.3.7), please consider upgrading to the latest version (0.3.10).\n",
      "Path to dataset files: /home/jupyter-st125490/.cache/kagglehub/datasets/mrmorj/hate-speech-and-offensive-language-dataset/versions/1\n"
     ]
    }
   ],
   "source": [
    "path = kagglehub.dataset_download(\"mrmorj/hate-speech-and-offensive-language-dataset\")\n",
    "\n",
    "print(\"Path to dataset files:\", path)\n",
    "device = torch.device('cuda' if torch.cuda.is_available() else 'cpu')"
   ]
  },
  {
   "cell_type": "markdown",
   "id": "b30b5f44-7f7b-4f08-87c4-d1bcc9e5faf3",
   "metadata": {},
   "source": [
    "**The dataset is coming from kaggle hate speech and offensive language dataset from social media commentsa like tweets, containing 24783 samples**"
   ]
  },
  {
   "cell_type": "code",
   "execution_count": 4,
   "id": "668d2b64-e59e-4897-b5e4-bebdadc4b567",
   "metadata": {},
   "outputs": [
    {
     "data": {
      "text/html": [
       "<div>\n",
       "<style scoped>\n",
       "    .dataframe tbody tr th:only-of-type {\n",
       "        vertical-align: middle;\n",
       "    }\n",
       "\n",
       "    .dataframe tbody tr th {\n",
       "        vertical-align: top;\n",
       "    }\n",
       "\n",
       "    .dataframe thead th {\n",
       "        text-align: right;\n",
       "    }\n",
       "</style>\n",
       "<table border=\"1\" class=\"dataframe\">\n",
       "  <thead>\n",
       "    <tr style=\"text-align: right;\">\n",
       "      <th></th>\n",
       "      <th>class</th>\n",
       "      <th>tweet</th>\n",
       "    </tr>\n",
       "  </thead>\n",
       "  <tbody>\n",
       "    <tr>\n",
       "      <th>0</th>\n",
       "      <td>2</td>\n",
       "      <td>!!! RT @mayasolovely: As a woman you shouldn't...</td>\n",
       "    </tr>\n",
       "    <tr>\n",
       "      <th>1</th>\n",
       "      <td>1</td>\n",
       "      <td>!!!!! RT @mleew17: boy dats cold...tyga dwn ba...</td>\n",
       "    </tr>\n",
       "    <tr>\n",
       "      <th>2</th>\n",
       "      <td>1</td>\n",
       "      <td>!!!!!!! RT @UrKindOfBrand Dawg!!!! RT @80sbaby...</td>\n",
       "    </tr>\n",
       "    <tr>\n",
       "      <th>3</th>\n",
       "      <td>1</td>\n",
       "      <td>!!!!!!!!! RT @C_G_Anderson: @viva_based she lo...</td>\n",
       "    </tr>\n",
       "    <tr>\n",
       "      <th>4</th>\n",
       "      <td>1</td>\n",
       "      <td>!!!!!!!!!!!!! RT @ShenikaRoberts: The shit you...</td>\n",
       "    </tr>\n",
       "    <tr>\n",
       "      <th>...</th>\n",
       "      <td>...</td>\n",
       "      <td>...</td>\n",
       "    </tr>\n",
       "    <tr>\n",
       "      <th>24778</th>\n",
       "      <td>1</td>\n",
       "      <td>you's a muthaf***in lie &amp;#8220;@LifeAsKing: @2...</td>\n",
       "    </tr>\n",
       "    <tr>\n",
       "      <th>24779</th>\n",
       "      <td>2</td>\n",
       "      <td>you've gone and broke the wrong heart baby, an...</td>\n",
       "    </tr>\n",
       "    <tr>\n",
       "      <th>24780</th>\n",
       "      <td>1</td>\n",
       "      <td>young buck wanna eat!!.. dat nigguh like I ain...</td>\n",
       "    </tr>\n",
       "    <tr>\n",
       "      <th>24781</th>\n",
       "      <td>1</td>\n",
       "      <td>youu got wild bitches tellin you lies</td>\n",
       "    </tr>\n",
       "    <tr>\n",
       "      <th>24782</th>\n",
       "      <td>2</td>\n",
       "      <td>~~Ruffled | Ntac Eileen Dahlia - Beautiful col...</td>\n",
       "    </tr>\n",
       "  </tbody>\n",
       "</table>\n",
       "<p>24783 rows × 2 columns</p>\n",
       "</div>"
      ],
      "text/plain": [
       "       class                                              tweet\n",
       "0          2  !!! RT @mayasolovely: As a woman you shouldn't...\n",
       "1          1  !!!!! RT @mleew17: boy dats cold...tyga dwn ba...\n",
       "2          1  !!!!!!! RT @UrKindOfBrand Dawg!!!! RT @80sbaby...\n",
       "3          1  !!!!!!!!! RT @C_G_Anderson: @viva_based she lo...\n",
       "4          1  !!!!!!!!!!!!! RT @ShenikaRoberts: The shit you...\n",
       "...      ...                                                ...\n",
       "24778      1  you's a muthaf***in lie &#8220;@LifeAsKing: @2...\n",
       "24779      2  you've gone and broke the wrong heart baby, an...\n",
       "24780      1  young buck wanna eat!!.. dat nigguh like I ain...\n",
       "24781      1              youu got wild bitches tellin you lies\n",
       "24782      2  ~~Ruffled | Ntac Eileen Dahlia - Beautiful col...\n",
       "\n",
       "[24783 rows x 2 columns]"
      ]
     },
     "execution_count": 4,
     "metadata": {},
     "output_type": "execute_result"
    }
   ],
   "source": [
    "x = pd.read_csv(path+'/labeled_data.csv')\n",
    "x[['class', 'tweet']]"
   ]
  },
  {
   "cell_type": "markdown",
   "id": "be25de89-867f-4977-ac53-3d1815fcd062",
   "metadata": {},
   "source": [
    "**lets clean the data before training teacher student model**"
   ]
  },
  {
   "cell_type": "code",
   "execution_count": 5,
   "id": "0b79a705-8a1b-4f40-a0fe-a7bd17cef607",
   "metadata": {},
   "outputs": [],
   "source": [
    "train_data, test_data = train_test_split(x, test_size=0.2, random_state=42)\n",
    "\n",
    "# Save as CSV for TabularDataset\n",
    "# train_data.to_csv('train_data.csv', index=False)\n",
    "# test_data.to_csv('test_data.csv', index=False)\n",
    "# X_train, y_train, X_valid, y_valid, X_test, y_test = train_valid_test_split(x, target = 'class', \n",
    "#                                                                             train_size=0.6, valid_size=0.3, test_size=0.1)\n",
    "\n",
    "# X_train['class'] = y_train\n",
    "# X_valid['class'] = y_valid\n",
    "# X_test['class'] = y_test\n",
    "\n",
    "\n",
    "train_df, remaining_df = train_test_split(x, test_size=0.4, stratify=x['class'], random_state=42)\n",
    "\n",
    "# Now split the remaining into validation and test sets\n",
    "valid_df, test_df = train_test_split(remaining_df, test_size=0.5, stratify=remaining_df['class'], random_state=42)"
   ]
  },
  {
   "cell_type": "code",
   "execution_count": 6,
   "id": "261c9c15-d8c4-45d5-b218-61dd842414ac",
   "metadata": {},
   "outputs": [
    {
     "data": {
      "text/plain": [
       "DatasetDict({\n",
       "    train: Dataset({\n",
       "        features: ['tweet', 'class', '__index_level_0__'],\n",
       "        num_rows: 14869\n",
       "    })\n",
       "    valid: Dataset({\n",
       "        features: ['tweet', 'class', '__index_level_0__'],\n",
       "        num_rows: 4957\n",
       "    })\n",
       "    test: Dataset({\n",
       "        features: ['tweet', 'class', '__index_level_0__'],\n",
       "        num_rows: 4957\n",
       "    })\n",
       "})"
      ]
     },
     "execution_count": 6,
     "metadata": {},
     "output_type": "execute_result"
    }
   ],
   "source": [
    "# raw_data = MakeDataset(train_data, test_data)\n",
    "# raw_data\n",
    "import datasets\n",
    "cols = ['tweet', 'class']\n",
    "dd = datasets.DatasetDict({\"train\":Dataset.from_pandas(train_df[cols]),\"valid\":Dataset.from_pandas(valid_df[cols]),\"test\":Dataset.from_pandas(test_df[cols])})\n",
    "dd"
   ]
  },
  {
   "cell_type": "code",
   "execution_count": 7,
   "id": "cddc8458-a672-4332-a036-68f96537a7a5",
   "metadata": {},
   "outputs": [
    {
     "data": {
      "text/plain": [
       "3"
      ]
     },
     "execution_count": 7,
     "metadata": {},
     "output_type": "execute_result"
    }
   ],
   "source": [
    "import numpy as np \n",
    "num_labels = np.unique(dd['train']['class']).size\n",
    "num_labels"
   ]
  },
  {
   "cell_type": "code",
   "execution_count": 8,
   "id": "400be0aa-59b5-403f-8e67-0f2393db60cf",
   "metadata": {},
   "outputs": [],
   "source": [
    "label2id ={'hate_speech': 0, 'offensive_language': 1, 'neither': 2}\n",
    "id2label = {0: 'hate_speech', 1: 'offensive_language', 2: 'neither'}"
   ]
  },
  {
   "cell_type": "markdown",
   "id": "f18864a7-f485-4227-8785-86c1553f13f1",
   "metadata": {},
   "source": [
    "## Toeknization"
   ]
  },
  {
   "cell_type": "code",
   "execution_count": 9,
   "id": "37c3fbd4-ed16-47d9-bc9b-36a653e1f0b4",
   "metadata": {},
   "outputs": [
    {
     "name": "stderr",
     "output_type": "stream",
     "text": [
      "Some weights of BertForSequenceClassification were not initialized from the model checkpoint at bert-base-uncased and are newly initialized: ['classifier.bias', 'classifier.weight']\n",
      "You should probably TRAIN this model on a down-stream task to be able to use it for predictions and inference.\n"
     ]
    },
    {
     "data": {
      "text/plain": [
       "BertForSequenceClassification(\n",
       "  (bert): BertModel(\n",
       "    (embeddings): BertEmbeddings(\n",
       "      (word_embeddings): Embedding(30522, 768, padding_idx=0)\n",
       "      (position_embeddings): Embedding(512, 768)\n",
       "      (token_type_embeddings): Embedding(2, 768)\n",
       "      (LayerNorm): LayerNorm((768,), eps=1e-12, elementwise_affine=True)\n",
       "      (dropout): Dropout(p=0.1, inplace=False)\n",
       "    )\n",
       "    (encoder): BertEncoder(\n",
       "      (layer): ModuleList(\n",
       "        (0-11): 12 x BertLayer(\n",
       "          (attention): BertAttention(\n",
       "            (self): BertSelfAttention(\n",
       "              (query): Linear(in_features=768, out_features=768, bias=True)\n",
       "              (key): Linear(in_features=768, out_features=768, bias=True)\n",
       "              (value): Linear(in_features=768, out_features=768, bias=True)\n",
       "              (dropout): Dropout(p=0.1, inplace=False)\n",
       "            )\n",
       "            (output): BertSelfOutput(\n",
       "              (dense): Linear(in_features=768, out_features=768, bias=True)\n",
       "              (LayerNorm): LayerNorm((768,), eps=1e-12, elementwise_affine=True)\n",
       "              (dropout): Dropout(p=0.1, inplace=False)\n",
       "            )\n",
       "          )\n",
       "          (intermediate): BertIntermediate(\n",
       "            (dense): Linear(in_features=768, out_features=3072, bias=True)\n",
       "            (intermediate_act_fn): GELUActivation()\n",
       "          )\n",
       "          (output): BertOutput(\n",
       "            (dense): Linear(in_features=3072, out_features=768, bias=True)\n",
       "            (LayerNorm): LayerNorm((768,), eps=1e-12, elementwise_affine=True)\n",
       "            (dropout): Dropout(p=0.1, inplace=False)\n",
       "          )\n",
       "        )\n",
       "      )\n",
       "    )\n",
       "    (pooler): BertPooler(\n",
       "      (dense): Linear(in_features=768, out_features=768, bias=True)\n",
       "      (activation): Tanh()\n",
       "    )\n",
       "  )\n",
       "  (dropout): Dropout(p=0.1, inplace=False)\n",
       "  (classifier): Linear(in_features=768, out_features=3, bias=True)\n",
       ")"
      ]
     },
     "execution_count": 9,
     "metadata": {},
     "output_type": "execute_result"
    }
   ],
   "source": [
    "from transformers import AutoModelForSequenceClassification\n",
    "from transformers import AutoTokenizer\n",
    "\n",
    "teacher_id = \"bert-base-uncased\"\n",
    "tokenizer = AutoTokenizer.from_pretrained(teacher_id)\n",
    "\n",
    "teacher_model = AutoModelForSequenceClassification.from_pretrained(\n",
    "    teacher_id, \n",
    "     num_labels = num_labels,\n",
    "    id2label = id2label,\n",
    "    label2id = label2id)\n",
    "\n",
    "\n",
    "teacher_model"
   ]
  },
  {
   "cell_type": "markdown",
   "id": "3645c830-5213-4a70-88f6-98b6bfccfe6e",
   "metadata": {},
   "source": [
    "**Loaded BERT model of 12 layers**"
   ]
  },
  {
   "cell_type": "code",
   "execution_count": 11,
   "id": "a090b572-b6b3-4a5e-95e1-84d72265eba2",
   "metadata": {},
   "outputs": [],
   "source": [
    "def tokenize_function(examples):\n",
    "    # Tokenize the 'tweet' column, ensuring truncation and padding\n",
    "    result = tokenizer(examples['tweet'], max_length=128, truncation=True, padding='max_length')\n",
    "    return result"
   ]
  },
  {
   "cell_type": "code",
   "execution_count": 12,
   "id": "216450c5-7d13-4d99-af61-8141668d25e6",
   "metadata": {},
   "outputs": [
    {
     "data": {
      "application/vnd.jupyter.widget-view+json": {
       "model_id": "5daa050cb1b74fdcbaa9d03f109fbe6c",
       "version_major": 2,
       "version_minor": 0
      },
      "text/plain": [
       "Map:   0%|          | 0/14869 [00:00<?, ? examples/s]"
      ]
     },
     "metadata": {},
     "output_type": "display_data"
    },
    {
     "data": {
      "application/vnd.jupyter.widget-view+json": {
       "model_id": "b5bd03be5d5e477296f9f4136b63aeb6",
       "version_major": 2,
       "version_minor": 0
      },
      "text/plain": [
       "Map:   0%|          | 0/4957 [00:00<?, ? examples/s]"
      ]
     },
     "metadata": {},
     "output_type": "display_data"
    },
    {
     "data": {
      "application/vnd.jupyter.widget-view+json": {
       "model_id": "2425eb5f49a94f71b47bc772668089a6",
       "version_major": 2,
       "version_minor": 0
      },
      "text/plain": [
       "Map:   0%|          | 0/4957 [00:00<?, ? examples/s]"
      ]
     },
     "metadata": {},
     "output_type": "display_data"
    },
    {
     "data": {
      "text/plain": [
       "DatasetDict({\n",
       "    train: Dataset({\n",
       "        features: ['tweet', 'class', '__index_level_0__', 'input_ids', 'token_type_ids', 'attention_mask'],\n",
       "        num_rows: 14869\n",
       "    })\n",
       "    valid: Dataset({\n",
       "        features: ['tweet', 'class', '__index_level_0__', 'input_ids', 'token_type_ids', 'attention_mask'],\n",
       "        num_rows: 4957\n",
       "    })\n",
       "    test: Dataset({\n",
       "        features: ['tweet', 'class', '__index_level_0__', 'input_ids', 'token_type_ids', 'attention_mask'],\n",
       "        num_rows: 4957\n",
       "    })\n",
       "})"
      ]
     },
     "execution_count": 12,
     "metadata": {},
     "output_type": "execute_result"
    }
   ],
   "source": [
    "tokenized_datasets = dd.map(tokenize_function, batched=True)\n",
    "tokenized_datasets"
   ]
  },
  {
   "cell_type": "code",
   "execution_count": 13,
   "id": "ff2502c9-58ce-476f-adda-2c170d02e82f",
   "metadata": {},
   "outputs": [
    {
     "name": "stdout",
     "output_type": "stream",
     "text": [
      "[101, 19387, 1030, 4388, 24415, 4430, 4140, 14697, 1024, 2065, 2017, 2064, 2102, 3413, 1996, 2004, 3567, 2497, 2017, 2453, 2004, 2092, 2074, 2175, 2440, 2128, 7559, 2094, 102, 0, 0, 0, 0, 0, 0, 0, 0, 0, 0, 0, 0, 0, 0, 0, 0, 0, 0, 0, 0, 0, 0, 0, 0, 0, 0, 0, 0, 0, 0, 0, 0, 0, 0, 0, 0, 0, 0, 0, 0, 0, 0, 0, 0, 0, 0, 0, 0, 0, 0, 0, 0, 0, 0, 0, 0, 0, 0, 0, 0, 0, 0, 0, 0, 0, 0, 0, 0, 0, 0, 0, 0, 0, 0, 0, 0, 0, 0, 0, 0, 0, 0, 0, 0, 0, 0, 0, 0, 0, 0, 0, 0, 0, 0, 0, 0, 0, 0, 0]\n"
     ]
    }
   ],
   "source": [
    "print(tokenized_datasets['train']['input_ids'][0])  # Tokenized input IDs"
   ]
  },
  {
   "cell_type": "code",
   "execution_count": 14,
   "id": "467e5686-23fd-478c-8da7-68821b81173f",
   "metadata": {},
   "outputs": [
    {
     "data": {
      "text/plain": [
       "DatasetDict({\n",
       "    train: Dataset({\n",
       "        features: ['labels', 'input_ids', 'token_type_ids', 'attention_mask'],\n",
       "        num_rows: 14869\n",
       "    })\n",
       "    valid: Dataset({\n",
       "        features: ['labels', 'input_ids', 'token_type_ids', 'attention_mask'],\n",
       "        num_rows: 4957\n",
       "    })\n",
       "    test: Dataset({\n",
       "        features: ['labels', 'input_ids', 'token_type_ids', 'attention_mask'],\n",
       "        num_rows: 4957\n",
       "    })\n",
       "})"
      ]
     },
     "execution_count": 14,
     "metadata": {},
     "output_type": "execute_result"
    }
   ],
   "source": [
    "#remove column : 'premise', 'hypothesis', 'idx'\n",
    "column_dataset = ['tweet']\n",
    "tokenized_datasets = tokenized_datasets.remove_columns(column_dataset + [\"__index_level_0__\"])\n",
    "#rename column : 'labels'\n",
    "tokenized_datasets = tokenized_datasets.rename_column(\"class\", \"labels\")\n",
    "tokenized_datasets.set_format(\"torch\")\n",
    "tokenized_datasets"
   ]
  },
  {
   "cell_type": "code",
   "execution_count": 15,
   "id": "f9257485-3787-46e0-956b-fb1f22639c26",
   "metadata": {},
   "outputs": [
    {
     "name": "stderr",
     "output_type": "stream",
     "text": [
      "2025-03-23 06:08:23.352782: E external/local_xla/xla/stream_executor/cuda/cuda_fft.cc:477] Unable to register cuFFT factory: Attempting to register factory for plugin cuFFT when one has already been registered\n",
      "WARNING: All log messages before absl::InitializeLog() is called are written to STDERR\n",
      "E0000 00:00:1742710103.371418  698691 cuda_dnn.cc:8310] Unable to register cuDNN factory: Attempting to register factory for plugin cuDNN when one has already been registered\n",
      "E0000 00:00:1742710103.377403  698691 cuda_blas.cc:1418] Unable to register cuBLAS factory: Attempting to register factory for plugin cuBLAS when one has already been registered\n",
      "2025-03-23 06:08:23.408628: I tensorflow/core/platform/cpu_feature_guard.cc:210] This TensorFlow binary is optimized to use available CPU instructions in performance-critical operations.\n",
      "To enable the following instructions: AVX2 FMA, in other operations, rebuild TensorFlow with the appropriate compiler flags.\n"
     ]
    }
   ],
   "source": [
    "from transformers import DataCollatorWithPadding\n",
    "data_collator = DataCollatorWithPadding(tokenizer=tokenizer)"
   ]
  },
  {
   "cell_type": "code",
   "execution_count": 16,
   "id": "351f4256-98c2-4b17-adf1-7dcf4f51053b",
   "metadata": {},
   "outputs": [],
   "source": [
    "small_train_dataset = tokenized_datasets[\"train\"].shuffle(seed=1150).select(range(12000))\n",
    "small_test_dataset = tokenized_datasets[\"test\"].shuffle(seed=1150).select(range(900))"
   ]
  },
  {
   "cell_type": "code",
   "execution_count": 17,
   "id": "ddaefc66-26f3-4719-baf0-87df1edadbca",
   "metadata": {},
   "outputs": [
    {
     "name": "stderr",
     "output_type": "stream",
     "text": [
      "You're using a BertTokenizerFast tokenizer. Please note that with a fast tokenizer, using the `__call__` method is faster than using a method to encode the text followed by a call to the `pad` method to get a padded encoding.\n"
     ]
    },
    {
     "data": {
      "text/plain": [
       "(torch.Size([16]), torch.Size([16, 128]), torch.Size([16, 128]))"
      ]
     },
     "execution_count": 17,
     "metadata": {},
     "output_type": "execute_result"
    }
   ],
   "source": [
    "# DataCollatorWithPadding ensures correct padding during batching\n",
    "data_collator = DataCollatorWithPadding(tokenizer=tokenizer)\n",
    "\n",
    "# Create DataLoader for train and test datasets\n",
    "# small_train_dataset = tokenized_datasets[\"train\"].shuffle(seed=1150).select(range(12000))\n",
    "# small_test_dataset = tokenized_datasets[\"test\"].shuffle(seed=1150).select(range(900))\n",
    "\n",
    "train_dataloader = DataLoader(\n",
    "    tokenized_datasets['train'], shuffle=False, batch_size=16, collate_fn=data_collator\n",
    ")\n",
    "test_dataloader = DataLoader(\n",
    "    tokenized_datasets['test'], batch_size=16, collate_fn=data_collator\n",
    ")\n",
    "\n",
    "valid_dataloader = DataLoader(\n",
    "    tokenized_datasets['valid'], batch_size=16, collate_fn=data_collator\n",
    "    \n",
    ")\n",
    "\n",
    "for batch in train_dataloader:\n",
    "    break\n",
    "    \n",
    "batch['labels'].shape, batch['input_ids'].shape, batch['attention_mask'].shape"
   ]
  },
  {
   "cell_type": "markdown",
   "id": "7172a7f3-7e6d-459d-a43d-5d6ee6a369bb",
   "metadata": {},
   "source": [
    "## Modeling"
   ]
  },
  {
   "cell_type": "markdown",
   "id": "7d2373fa-3dac-4e26-a8e3-95e7275d04fd",
   "metadata": {},
   "source": [
    "**task 2.1 odd layers {1, 3, 5, 7, 9, 11}**"
   ]
  },
  {
   "cell_type": "code",
   "execution_count": 18,
   "id": "3805d356-7119-40f3-a126-0c4aa7b643fd",
   "metadata": {},
   "outputs": [],
   "source": [
    "from transformers import BertModel, BertConfig\n",
    "# Load the teacher model (12-layer model)\n",
    "teacher_model = BertModel.from_pretrained(teacher_id)\n",
    "\n",
    "# teacher_model = AutoModelForSequenceClassification.from_pretrained(\n",
    "#     teacher_id, \n",
    "#      num_labels = num_labels,\n",
    "#     id2label = id2label,\n",
    "#     label2id = label2id,)\n",
    "student_config = BertConfig.from_pretrained(teacher_id, num_hidden_layers=6, num_labels = num_labels)\n",
    "student_model = BertModel(student_config)"
   ]
  },
  {
   "cell_type": "code",
   "execution_count": 17,
   "id": "340adf1c-7136-4237-979d-b07480105d70",
   "metadata": {},
   "outputs": [],
   "source": [
    "# # Transfer weights for odd layers\n",
    "# teacher_layers = teacher_model.encoder.layer  # List of layers in the teacher model\n",
    "# student_layers = student_model.encoder.layer  # List of layers in the student model\n",
    "\n",
    "# # Transfer weights from odd layers (0-indexed, so 1, 3, 5, 7, 9, 11 are indices 0, 2, 4, 6, 8, 10)\n",
    "# for i, student_layer in enumerate(student_layers):\n",
    "#     teacher_layer = teacher_layers[2*i]  # Select odd layers (i.e., layers 1, 3, 5, 7, 9, 11)\n",
    "    \n",
    "#     # Transfer weights for each component (e.g., attention, intermediate)\n",
    "#     student_layer.attention.self.query.weight.data = teacher_layer.attention.self.query.weight.data.clone()\n",
    "#     student_layer.attention.self.query.bias.data = teacher_layer.attention.self.query.bias.data.clone()\n",
    "    \n",
    "#     student_layer.attention.self.key.weight.data = teacher_layer.attention.self.key.weight.data.clone()\n",
    "#     student_layer.attention.self.key.bias.data = teacher_layer.attention.self.key.bias.data.clone()\n",
    "    \n",
    "#     student_layer.attention.self.value.weight.data = teacher_layer.attention.self.value.weight.data.clone()\n",
    "#     student_layer.attention.self.value.bias.data = teacher_layer.attention.self.value.bias.data.clone()\n",
    "    \n",
    "#     student_layer.attention.output.dense.weight.data = teacher_layer.attention.output.dense.weight.data.clone()\n",
    "#     student_layer.attention.output.dense.bias.data = teacher_layer.attention.output.dense.bias.data.clone()\n",
    "    \n",
    "#     student_layer.intermediate.dense.weight.data = teacher_layer.intermediate.dense.weight.data.clone()\n",
    "#     student_layer.intermediate.dense.bias.data = teacher_layer.intermediate.dense.bias.data.clone()\n",
    "    \n",
    "#     student_layer.output.dense.weight.data = teacher_layer.output.dense.weight.data.clone()\n",
    "#     student_layer.output.dense.bias.data = teacher_layer.output.dense.bias.data.clone()\n"
   ]
  },
  {
   "cell_type": "code",
   "execution_count": 19,
   "id": "b9d3b5e1-7aac-4db1-a976-ec9237fe1fb6",
   "metadata": {},
   "outputs": [],
   "source": [
    "from transformers.models.bert.modeling_bert import BertModel, BertEncoder\n",
    "from torch.nn import Module\n",
    "\n",
    "def distill_bert_weights(teacher: Module, student: Module, odd_even: str) -> None:\n",
    "    \"\"\"\n",
    "    Recursively copies the weights of the teacher model to the student model.\n",
    "    This function copies one out of every two layers of the encoder.\n",
    "    \"\"\"\n",
    "    # If the part is an entire BERT model or a BERTFor..., unpack and iterate\n",
    "    if isinstance(teacher, BertModel) or type(teacher).__name__.startswith('BertFor'):\n",
    "        # Iterate over children (BertModel contains encoder, pooler, and heads)\n",
    "        for teacher_part, student_part in zip(teacher.children(), student.children()):\n",
    "            distill_bert_weights(teacher_part, student_part, odd_even)\n",
    "    \n",
    "    # Else if the part is an encoder, copy one out of every two layers (odd layers)\n",
    "    elif isinstance(teacher, BertEncoder):\n",
    "        teacher_encoding_layers = teacher.layer  # Access layers directly in teacher (BertEncoder)\n",
    "        student_encoding_layers = student.layer  # Access layers directly in student (BertEncoder)\n",
    "\n",
    "        print(f\"Teacher encoding layers: {len(teacher_encoding_layers)}\")\n",
    "        print(f\"Student encoding layers: {len(student_encoding_layers)}\")\n",
    "\n",
    "        # Ensure that the student model has fewer or equal layers compared to the teacher\n",
    "        assert len(student_encoding_layers) * 2 <= len(teacher_encoding_layers), \\\n",
    "            \"The student model should have fewer or equal layers compared to the teacher model.\"\n",
    "\n",
    "        if odd_even == \"odd\":\n",
    "            # Copy weights from odd layers (1, 3, 5, 7, 9, 11 -> 0, 2, 4, 6, 8, 10 in 0-indexing)\n",
    "            for i in range(len(student_encoding_layers)):\n",
    "                print(f\"Copying from teacher layer {2 * i} to student layer {i}\")\n",
    "                student_encoding_layers[i].load_state_dict(teacher_encoding_layers[2 * i].state_dict())\n",
    "        \n",
    "        elif odd_even == \"even\":\n",
    "            # Copy weights from even layers (2, 4, 6, 8, 10 -> 1, 3, 5, 7, 9 in 0-indexing)\n",
    "            for i in range(len(student_encoding_layers)):\n",
    "                if 2 * i + 1 < len(teacher_encoding_layers):  # Ensure you are not accessing out of bounds\n",
    "                    print(f\"Copying from teacher layer {2 * i + 1} to student layer {i}\")\n",
    "                    student_encoding_layers[i].load_state_dict(teacher_encoding_layers[2 * i + 1].state_dict())\n",
    "                else:\n",
    "                    # Handle the final layer if it doesn't exist in the even layers\n",
    "                    print(f\"Copying the final teacher layer {len(teacher_encoding_layers)-1} to student layer {i}\")\n",
    "                    student_encoding_layers[i].load_state_dict(teacher_encoding_layers[len(teacher_encoding_layers)-1].state_dict())\n",
    "        \n",
    "        else:\n",
    "            raise ValueError(\"odd_even should be either 'odd' or 'even'\")\n",
    "    \n",
    "    # Else the part is a head or something else, copy the state_dict directly\n",
    "    else:\n",
    "        # Directly copy the state_dict of this part (if it's not an encoder)\n",
    "        student.load_state_dict(teacher.state_dict())\n",
    "\n",
    "    return student\n"
   ]
  },
  {
   "cell_type": "code",
   "execution_count": 20,
   "id": "f2d80161-0507-4b5d-aea7-8a82cb648ebf",
   "metadata": {},
   "outputs": [
    {
     "name": "stdout",
     "output_type": "stream",
     "text": [
      "Teacher encoding layers: 12\n",
      "Student encoding layers: 6\n",
      "Copying from teacher layer 0 to student layer 0\n",
      "Copying from teacher layer 2 to student layer 1\n",
      "Copying from teacher layer 4 to student layer 2\n",
      "Copying from teacher layer 6 to student layer 3\n",
      "Copying from teacher layer 8 to student layer 4\n",
      "Copying from teacher layer 10 to student layer 5\n"
     ]
    }
   ],
   "source": [
    "model = distill_bert_weights(teacher=teacher_model, student=student_model, odd_even=\"odd\")"
   ]
  },
  {
   "cell_type": "code",
   "execution_count": 20,
   "id": "f0a6c293-4c73-4314-97eb-aedb3447fe17",
   "metadata": {},
   "outputs": [],
   "source": [
    "# def count_parameters(model):\n",
    "#     return sum(p.numel() for p in model.parameters() if p.requires_grad)\n",
    "\n",
    "# print('Teacher parameters :', count_parameters(teacher_model))\n",
    "# print('Student parameters :', count_parameters(model))"
   ]
  },
  {
   "cell_type": "code",
   "execution_count": 21,
   "id": "96e261d0-2a9c-4b83-a2dd-9eed713df771",
   "metadata": {},
   "outputs": [],
   "source": [
    "# count_parameters(model)/count_parameters(teacher_model) * 100"
   ]
  },
  {
   "cell_type": "code",
   "execution_count": 21,
   "id": "92f20c75-ce1e-40d3-8842-c1be9b5e071b",
   "metadata": {},
   "outputs": [],
   "source": [
    "import torch\n",
    "import torch.nn.functional as F\n",
    "from torch import nn\n",
    "\n",
    "class DistillKL(nn.Module):\n",
    "    \"\"\"\n",
    "    Distilling the Knowledge in a Neural Network.\n",
    "    Compute the knowledge-distillation (KD) loss given outputs, labels.\n",
    "    Hyperparameters: temperature and alpha\n",
    "\n",
    "    NOTE: the KL Divergence for PyTorch comparing the softmaxs of teacher\n",
    "    and student expects the input tensor to be log probabilities!\n",
    "    \"\"\"\n",
    "    def __init__(self):\n",
    "        super(DistillKL, self).__init__()\n",
    "\n",
    "    def forward(self, output_student, output_teacher, temperature=1):\n",
    "        '''\n",
    "        Note: the output_student and output_teacher are logits\n",
    "        '''\n",
    "        T = temperature\n",
    "\n",
    "        # Clip the logits to prevent extreme values (use a range to stabilize)\n",
    "        output_student = torch.clamp(output_student, min=-10, max=10)\n",
    "        output_teacher = torch.clamp(output_teacher, min=-10, max=10)\n",
    "\n",
    "        # Apply temperature scaling\n",
    "        scaled_student_logits = output_student / T\n",
    "        scaled_teacher_logits = output_teacher / T\n",
    "\n",
    "        # Compute KL Divergence loss\n",
    "        KD_loss = nn.KLDivLoss(reduction='batchmean')(\n",
    "            F.log_softmax(scaled_student_logits, dim=-1),  # Log-softmax of student\n",
    "            F.softmax(scaled_teacher_logits, dim=-1)       # Softmax of teacher\n",
    "        ) * T * T  # Scaling by temperature squared\n",
    "\n",
    "        return KD_loss\n"
   ]
  },
  {
   "cell_type": "code",
   "execution_count": 22,
   "id": "06073d57-2135-4b5e-b976-3948c3db4fe5",
   "metadata": {},
   "outputs": [],
   "source": [
    "criterion_div = DistillKL()\n",
    "criterion_cos = nn.CosineEmbeddingLoss()"
   ]
  },
  {
   "cell_type": "code",
   "execution_count": 23,
   "id": "6f89cf34-1029-4135-99b7-da3d446f8438",
   "metadata": {},
   "outputs": [],
   "source": [
    "from torch.optim import AdamW\n",
    "\n",
    "# Define the optimizer for the student model\n",
    "optimizer = AdamW(model.parameters(), lr=1e-5, eps=1e-8)\n",
    "\n",
    "# You can also define a learning rate scheduler (optional)\n",
    "from transformers import get_linear_schedule_with_warmup\n",
    "num_epochs = 5\n",
    "# Define the number of training steps and warm-up steps for scheduler\n",
    "num_training_steps = len(train_dataloader) * num_epochs\n",
    "warmup_steps = int(0.1 * num_training_steps)  # 10% warm-up\n",
    "\n",
    "# Create the scheduler for the learning rate decay\n",
    "lr_scheduler = get_linear_schedule_with_warmup(optimizer,\n",
    "                                               num_warmup_steps=warmup_steps,\n",
    "                                               num_training_steps=num_training_steps)\n"
   ]
  },
  {
   "cell_type": "code",
   "execution_count": 24,
   "id": "c3f711dc-ba6a-461c-b448-f4ca76ff7f39",
   "metadata": {},
   "outputs": [],
   "source": [
    "num_epochs = 5\n",
    "# Define the number of training steps and warm-up steps for scheduler\n",
    "num_training_steps = len(train_dataloader) * num_epochs"
   ]
  },
  {
   "cell_type": "code",
   "execution_count": 25,
   "id": "e9034f70-3227-4931-b89f-a1cbcb6ebb76",
   "metadata": {},
   "outputs": [],
   "source": [
    "model=model.to(device)\n",
    "teacher_model = teacher_model.to(device)"
   ]
  },
  {
   "cell_type": "markdown",
   "id": "cd4ff1e7-ad30-4428-bea5-3c53a2729d6f",
   "metadata": {},
   "source": [
    "**Training loop**"
   ]
  },
  {
   "cell_type": "code",
   "execution_count": 27,
   "id": "1147e4ad-3474-4701-a8db-a09de5c33cf7",
   "metadata": {},
   "outputs": [
    {
     "data": {
      "application/vnd.jupyter.widget-view+json": {
       "model_id": "e9a022609f0d438d8ee871524fc77616",
       "version_major": 2,
       "version_minor": 0
      },
      "text/plain": [
       "  0%|          | 0/4650 [00:00<?, ?it/s]"
      ]
     },
     "metadata": {},
     "output_type": "display_data"
    },
    {
     "name": "stdout",
     "output_type": "stream",
     "text": [
      "Epoch 1: Train Loss 0.9493\n",
      "  - Loss_cls: 1.8127\n",
      "  - Loss_div: 0.6656\n",
      "  - Loss_cos: 0.3696\n",
      "Epoch 1: Eval Loss: 0.9422, Eval Accuracy: 0.8921\n",
      "Epoch 2: Train Loss 0.6560\n",
      "  - Loss_cls: 1.0501\n",
      "  - Loss_div: 0.7094\n",
      "  - Loss_cos: 0.2087\n",
      "Epoch 2: Eval Loss: 0.9113, Eval Accuracy: 0.9068\n",
      "Epoch 3: Train Loss 0.6291\n",
      "  - Loss_cls: 0.9951\n",
      "  - Loss_div: 0.7016\n",
      "  - Loss_cos: 0.1905\n",
      "Epoch 3: Eval Loss: 0.9650, Eval Accuracy: 0.9046\n",
      "Epoch 4: Train Loss 0.6145\n",
      "  - Loss_cls: 0.9622\n",
      "  - Loss_div: 0.6996\n",
      "  - Loss_cos: 0.1817\n",
      "Epoch 4: Eval Loss: 0.8885, Eval Accuracy: 0.9145\n",
      "Epoch 5: Train Loss 0.6068\n",
      "  - Loss_cls: 0.9442\n",
      "  - Loss_div: 0.6984\n",
      "  - Loss_cos: 0.1779\n",
      "Epoch 5: Eval Loss: 0.8910, Eval Accuracy: 0.9151\n"
     ]
    }
   ],
   "source": [
    "import torch\n",
    "from torch.nn import CrossEntropyLoss\n",
    "from tqdm.auto import tqdm\n",
    "\n",
    "progress_bar = tqdm(range(num_training_steps))\n",
    "eval_metrics = 0\n",
    "# Lists to store losses for each epoch\n",
    "train_losses_odd = []\n",
    "train_losses_cls_odd = []\n",
    "train_losses_div_odd = []\n",
    "train_losses_cos_odd = []\n",
    "eval_losses_odd = []\n",
    "eval_accuracies_odd = []\n",
    "\n",
    "for epoch in range(num_epochs):\n",
    "    model.train()  # Ensure the student model is in training mode\n",
    "    teacher_model.eval()  # Ensure the teacher model is in evaluation mode\n",
    "    \n",
    "    train_loss = 0\n",
    "    train_loss_cls = 0\n",
    "    train_loss_div = 0\n",
    "    train_loss_cos = 0\n",
    "\n",
    "    for batch in train_dataloader:\n",
    "        # Move batch data to the appropriate device (GPU or CPU)\n",
    "        batch = {k: v.to(device) for k, v in batch.items()}\n",
    "        \n",
    "        # Extract only the necessary inputs for the model\n",
    "        input_batch = {k: v for k, v in batch.items() if k in ['input_ids', 'attention_mask', 'token_type_ids']}\n",
    "        \n",
    "        # Ensure the input_batch is on the same device as the model\n",
    "        input_batch = {k: v.to(device) for k, v in input_batch.items()}\n",
    "        \n",
    "        # Compute the student model output (using BertModel, without labels)\n",
    "        outputs = model(**input_batch)\n",
    "        # Compute the teacher model output (using BertModel, no gradients needed)\n",
    "        with torch.no_grad():\n",
    "            output_teacher = teacher_model(**input_batch)  # Get teacher logits\n",
    "        \n",
    "        # Get logits from the student and teacher (using [CLS] token representation)\n",
    "        student_logits = outputs.last_hidden_state[:, 0, :].to(device)  # Ensure logits are on the correct device\n",
    "        teacher_logits = output_teacher.last_hidden_state[:, 0, :].to(device)  # Ensure logits are on the correct device\n",
    "        assert student_logits.size() == teacher_logits.size()\n",
    "\n",
    "        \n",
    "        # Initialize loss components\n",
    "        loss_cls = None\n",
    "        total_loss = None\n",
    "        \n",
    "        # Compute loss only if labels are provided\n",
    "        if 'labels' in batch:\n",
    "            labels = batch['labels'].to(device)  # Get labels and move to device\n",
    "            criterion_cls = CrossEntropyLoss()\n",
    "            loss_cls = criterion_cls(student_logits, labels)  # Cross-entropy loss for classification\n",
    "            train_loss_cls += loss_cls.item()\n",
    "\n",
    "            # Combine the losses (distillation and classification)\n",
    "            loss_div = criterion_div(student_logits, teacher_logits)  # Distillation loss (e.g., KL divergence)\n",
    "            train_loss_div += loss_div.item()\n",
    "            \n",
    "            loss_cos = criterion_cos(teacher_logits, student_logits, torch.ones(student_logits.size(0)).to(device))  # Cosine loss\n",
    "            train_loss_cos += loss_cos.item()\n",
    "            # print(loss_cls)\n",
    "            # print(loss_div)\n",
    "            # print(loss_cos)\n",
    "            # # Total loss (classification loss + distillation loss + cosine loss)\n",
    "            total_loss = (loss_cls + loss_div + loss_cos) / 3\n",
    "        else:\n",
    "            # If there are no labels, just use distillation loss and cosine loss\n",
    "            loss_div = criterion_div(student_logits, teacher_logits)\n",
    "            loss_cos = criterion_cos(teacher_logits, student_logits, torch.ones(student_logits.size(0)).to(device))\n",
    "            total_loss = (loss_div + loss_cos) / 2\n",
    "\n",
    "        if torch.isnan(student_logits).any() or torch.isinf(student_logits).any():\n",
    "            print(\"NaN or Inf detected in student logits\")\n",
    "\n",
    "        if torch.isnan(teacher_logits).any() or torch.isinf(teacher_logits).any():\n",
    "            print(\"NaN or Inf detected in teacher logits\")\n",
    "\n",
    "        # Backpropagation\n",
    "        total_loss.backward()\n",
    "        optimizer.step()\n",
    "        optimizer.zero_grad()\n",
    "        lr_scheduler.step()\n",
    "\n",
    "        # Update progress bar\n",
    "        progress_bar.update(1)\n",
    "\n",
    "        # Accumulate the training loss\n",
    "        train_loss += total_loss.item()\n",
    "\n",
    "    # Average loss for the epoch\n",
    "    train_losses_odd.append(train_loss / len(train_dataloader))\n",
    "    train_losses_cls_odd.append(train_loss_cls / len(train_dataloader))\n",
    "    train_losses_div_odd.append(train_loss_div / len(train_dataloader))\n",
    "    train_losses_cos_odd.append(train_loss_cos / len(train_dataloader))\n",
    "\n",
    "    print(f'Epoch {epoch + 1}: Train Loss {train_loss / len(train_dataloader):.4f}')\n",
    "    print(f'  - Loss_cls: {train_loss_cls / len(train_dataloader):.4f}')\n",
    "    print(f'  - Loss_div: {train_loss_div / len(train_dataloader):.4f}')\n",
    "    print(f'  - Loss_cos: {train_loss_cos / len(train_dataloader):.4f}')\n",
    "\n",
    "     # Now evaluate on the test set\n",
    "    student_model.eval()  # Switch model to evaluation mode\n",
    "\n",
    "    eval_loss = 0\n",
    "    correct_predictions = 0\n",
    "    total_predictions = 0\n",
    "\n",
    "    # Loop over test data\n",
    "    with torch.no_grad():\n",
    "        for batch in valid_dataloader:\n",
    "            batch = {k: v.to(device) for k, v in batch.items()}\n",
    "            \n",
    "            input_batch = {k: v for k, v in batch.items() if k in ['input_ids', 'attention_mask', 'token_type_ids']}\n",
    "            labels = batch['labels'].to(device)  # Get labels\n",
    "\n",
    "            # Forward pass for the student model\n",
    "            outputs = model(**input_batch)\n",
    "            logits = outputs.last_hidden_state[:, 0, :].to(device)\n",
    "\n",
    "            # Compute the classification loss\n",
    "            criterion_cls = nn.CrossEntropyLoss()\n",
    "            loss_cls = criterion_cls(logits, labels)\n",
    "            eval_loss += loss_cls.item()\n",
    "\n",
    "            # Get predictions\n",
    "            predictions = logits.argmax(dim=-1)\n",
    "            correct_predictions += (predictions == labels).sum().item()\n",
    "            total_predictions += labels.size(0)\n",
    "\n",
    "    eval_accuracy = correct_predictions / total_predictions\n",
    "    eval_losses_odd.append(eval_loss / len(test_dataloader))\n",
    "    eval_accuracies_odd.append(eval_accuracy)\n",
    "    \n",
    "    print(f\"Epoch {epoch + 1}: Eval Loss: {eval_loss / len(test_dataloader):.4f}, Eval Accuracy: {eval_accuracy:.4f}\")\n"
   ]
  },
  {
   "cell_type": "code",
   "execution_count": 26,
   "id": "8b4c3a53-5b66-4500-a9c2-31e8ee0efc21",
   "metadata": {},
   "outputs": [],
   "source": [
    "model_odd = model\n",
    "# torch.save(model_odd, \"odd_model\")"
   ]
  },
  {
   "cell_type": "markdown",
   "id": "8a9984a7-d76b-4e6b-913c-72bf769334b0",
   "metadata": {},
   "source": [
    "**task 2.2 even {2, 4, 6, 8, 10, 12}**"
   ]
  },
  {
   "cell_type": "code",
   "execution_count": 27,
   "id": "c1cf380c-680c-45e6-bad5-392f9509b885",
   "metadata": {},
   "outputs": [
    {
     "name": "stdout",
     "output_type": "stream",
     "text": [
      "Teacher encoding layers: 12\n",
      "Student encoding layers: 6\n",
      "Copying from teacher layer 1 to student layer 0\n",
      "Copying from teacher layer 3 to student layer 1\n",
      "Copying from teacher layer 5 to student layer 2\n",
      "Copying from teacher layer 7 to student layer 3\n",
      "Copying from teacher layer 9 to student layer 4\n",
      "Copying from teacher layer 11 to student layer 5\n"
     ]
    }
   ],
   "source": [
    "student_config = BertConfig.from_pretrained(teacher_id, num_hidden_layers=6, num_labels = num_labels)\n",
    "student_model = BertModel(student_config)\n",
    "model = distill_bert_weights(teacher=teacher_model, student=student_model, odd_even=\"even\")\n",
    "model=model.to(device)"
   ]
  },
  {
   "cell_type": "code",
   "execution_count": 33,
   "id": "14012c36-3f35-4406-8e38-34cf2c7a03d3",
   "metadata": {},
   "outputs": [
    {
     "data": {
      "application/vnd.jupyter.widget-view+json": {
       "model_id": "b55d74c4f0b74658a2da862e5b689873",
       "version_major": 2,
       "version_minor": 0
      },
      "text/plain": [
       "  0%|          | 0/4650 [00:00<?, ?it/s]"
      ]
     },
     "metadata": {},
     "output_type": "display_data"
    },
    {
     "name": "stdout",
     "output_type": "stream",
     "text": [
      "Epoch 1: Train Loss 0.9637\n",
      "  - Loss_cls: 2.0150\n",
      "  - Loss_div: 0.5734\n",
      "  - Loss_cos: 0.3027\n",
      "Epoch 1: Eval Loss: 0.9699, Eval Accuracy: 0.8941\n",
      "Epoch 2: Train Loss 0.6684\n",
      "  - Loss_cls: 1.0732\n",
      "  - Loss_div: 0.6763\n",
      "  - Loss_cos: 0.2556\n",
      "Epoch 2: Eval Loss: 0.9639, Eval Accuracy: 0.8973\n",
      "Epoch 3: Train Loss 0.6424\n",
      "  - Loss_cls: 1.0132\n",
      "  - Loss_div: 0.6761\n",
      "  - Loss_cos: 0.2378\n",
      "Epoch 3: Eval Loss: 0.9675, Eval Accuracy: 0.9020\n",
      "Epoch 4: Train Loss 0.6284\n",
      "  - Loss_cls: 0.9789\n",
      "  - Loss_div: 0.6778\n",
      "  - Loss_cos: 0.2285\n",
      "Epoch 4: Eval Loss: 0.9572, Eval Accuracy: 0.9124\n",
      "Epoch 5: Train Loss 0.6212\n",
      "  - Loss_cls: 0.9607\n",
      "  - Loss_div: 0.6781\n",
      "  - Loss_cos: 0.2248\n",
      "Epoch 5: Eval Loss: 0.9250, Eval Accuracy: 0.9137\n"
     ]
    }
   ],
   "source": [
    "#train model with the similar settings\n",
    "from tqdm.auto import tqdm\n",
    "from torch.nn import CrossEntropyLoss\n",
    "progress_bar = tqdm(range(num_training_steps))\n",
    "eval_metrics = 0\n",
    "# Lists to store losses for each epoch\n",
    "train_losses = []\n",
    "train_losses_cls = []\n",
    "train_losses_div = []\n",
    "train_losses_cos = []\n",
    "eval_losses = []\n",
    "eval_accuracies = []\n",
    "\n",
    "for epoch in range(num_epochs):\n",
    "    model.train()  # Ensure the student model is in training mode\n",
    "    teacher_model.eval()  # Ensure the teacher model is in evaluation mode\n",
    "    \n",
    "    train_loss = 0\n",
    "    train_loss_cls = 0\n",
    "    train_loss_div = 0\n",
    "    train_loss_cos = 0\n",
    "\n",
    "    for batch in train_dataloader:\n",
    "        # Move batch data to the appropriate device (GPU or CPU)\n",
    "        batch = {k: v.to(device) for k, v in batch.items()}\n",
    "        \n",
    "        # Extract only the necessary inputs for the model\n",
    "        input_batch = {k: v for k, v in batch.items() if k in ['input_ids', 'attention_mask', 'token_type_ids']}\n",
    "        \n",
    "        # Ensure the input_batch is on the same device as the model\n",
    "        input_batch = {k: v.to(device) for k, v in input_batch.items()}\n",
    "        \n",
    "        # Compute the student model output (using BertModel, without labels)\n",
    "        outputs = model(**input_batch)\n",
    "        # Compute the teacher model output (using BertModel, no gradients needed)\n",
    "        with torch.no_grad():\n",
    "            output_teacher = teacher_model(**input_batch)  # Get teacher logits\n",
    "        \n",
    "        # Get logits from the student and teacher (using [CLS] token representation)\n",
    "        student_logits = outputs.last_hidden_state[:, 0, :].to(device)  # Ensure logits are on the correct device\n",
    "        teacher_logits = output_teacher.last_hidden_state[:, 0, :].to(device)  # Ensure logits are on the correct device\n",
    "        assert student_logits.size() == teacher_logits.size()\n",
    "\n",
    "        \n",
    "        # Initialize loss components\n",
    "        loss_cls = None\n",
    "        total_loss = None\n",
    "        \n",
    "        # Compute loss only if labels are provided\n",
    "        if 'labels' in batch:\n",
    "            labels = batch['labels'].to(device)  # Get labels and move to device\n",
    "            criterion_cls = CrossEntropyLoss()\n",
    "            loss_cls = criterion_cls(student_logits, labels)  # Cross-entropy loss for classification\n",
    "            train_loss_cls += loss_cls.item()\n",
    "\n",
    "            # Combine the losses (distillation and classification)\n",
    "            loss_div = criterion_div(student_logits, teacher_logits)  # Distillation loss (e.g., KL divergence)\n",
    "            train_loss_div += loss_div.item()\n",
    "            \n",
    "            loss_cos = criterion_cos(teacher_logits, student_logits, torch.ones(student_logits.size(0)).to(device))  # Cosine loss\n",
    "            train_loss_cos += loss_cos.item()\n",
    "            # print(loss_cls)\n",
    "            # print(loss_div)\n",
    "            # print(loss_cos)\n",
    "            # # Total loss (classification loss + distillation loss + cosine loss)\n",
    "            total_loss = (loss_cls + loss_div + loss_cos) / 3\n",
    "        else:\n",
    "            # If there are no labels, just use distillation loss and cosine loss\n",
    "            loss_div = criterion_div(student_logits, teacher_logits)\n",
    "            loss_cos = criterion_cos(teacher_logits, student_logits, torch.ones(student_logits.size(0)).to(device))\n",
    "            total_loss = (loss_div + loss_cos) / 2\n",
    "\n",
    "        if torch.isnan(student_logits).any() or torch.isinf(student_logits).any():\n",
    "            print(\"NaN or Inf detected in student logits\")\n",
    "\n",
    "        if torch.isnan(teacher_logits).any() or torch.isinf(teacher_logits).any():\n",
    "            print(\"NaN or Inf detected in teacher logits\")\n",
    "\n",
    "        # Backpropagation\n",
    "        total_loss.backward()\n",
    "        optimizer.step()\n",
    "        lr_scheduler.step()\n",
    "        optimizer.zero_grad()\n",
    "\n",
    "        # Update progress bar\n",
    "        progress_bar.update(1)\n",
    "\n",
    "        # Accumulate the training loss\n",
    "        train_loss += total_loss.item()\n",
    "\n",
    "    # Average loss for the epoch\n",
    "    train_losses.append(train_loss / len(train_dataloader))\n",
    "    train_losses_cls.append(train_loss_cls / len(train_dataloader))\n",
    "    train_losses_div.append(train_loss_div / len(train_dataloader))\n",
    "    train_losses_cos.append(train_loss_cos / len(train_dataloader))\n",
    "\n",
    "    print(f'Epoch {epoch + 1}: Train Loss {train_loss / len(train_dataloader):.4f}')\n",
    "    print(f'  - Loss_cls: {train_loss_cls / len(train_dataloader):.4f}')\n",
    "    print(f'  - Loss_div: {train_loss_div / len(train_dataloader):.4f}')\n",
    "    print(f'  - Loss_cos: {train_loss_cos / len(train_dataloader):.4f}')\n",
    "\n",
    "     # Now evaluate on the test set\n",
    "    student_model.eval()  # Switch model to evaluation mode\n",
    "\n",
    "    eval_loss = 0\n",
    "    correct_predictions = 0\n",
    "    total_predictions = 0\n",
    "\n",
    "    # Loop over test data\n",
    "    with torch.no_grad():\n",
    "        for batch in valid_dataloader:\n",
    "            batch = {k: v.to(device) for k, v in batch.items()}\n",
    "            \n",
    "            input_batch = {k: v for k, v in batch.items() if k in ['input_ids', 'attention_mask', 'token_type_ids']}\n",
    "            labels = batch['labels'].to(device)  # Get labels\n",
    "\n",
    "            # Forward pass for the student model\n",
    "            outputs = model(**input_batch)\n",
    "            logits = outputs.last_hidden_state[:, 0, :].to(device)\n",
    "\n",
    "            # Compute the classification loss\n",
    "            criterion_cls = nn.CrossEntropyLoss()\n",
    "            loss_cls = criterion_cls(logits, labels)\n",
    "            eval_loss += loss_cls.item()\n",
    "\n",
    "            # Get predictions\n",
    "            predictions = logits.argmax(dim=-1)\n",
    "            correct_predictions += (predictions == labels).sum().item()\n",
    "            total_predictions += labels.size(0)\n",
    "\n",
    "    eval_accuracy = correct_predictions / total_predictions\n",
    "    eval_losses.append(eval_loss / len(test_dataloader))\n",
    "    eval_accuracies.append(eval_accuracy)\n",
    "    \n",
    "    print(f\"Epoch {epoch + 1}: Eval Loss: {eval_loss / len(test_dataloader):.4f}, Eval Accuracy: {eval_accuracy:.4f}\")\n"
   ]
  },
  {
   "cell_type": "code",
   "execution_count": 28,
   "id": "c17096b8-4c25-4357-a612-bcfbbc33b394",
   "metadata": {},
   "outputs": [],
   "source": [
    "model_even = model\n",
    "# torch.save(model_even, \"even_model\")"
   ]
  },
  {
   "cell_type": "markdown",
   "id": "c09f6cf4-8ba9-41c8-a0e9-9c83633389a1",
   "metadata": {},
   "source": [
    "**Analysis**"
   ]
  },
  {
   "cell_type": "code",
   "execution_count": 36,
   "id": "71544fde-c402-4581-bfa6-dacc656d5103",
   "metadata": {},
   "outputs": [
    {
     "data": {
      "image/png": "[encoded data removed]",
      "text/plain": [
       "<Figure size 1200x600 with 1 Axes>"
      ]
     },
     "metadata": {},
     "output_type": "display_data"
    }
   ],
   "source": [
    "import matplotlib.pyplot as plt\n",
    "# Plotting\n",
    "epochs_list = range(1, num_epochs + 1)\n",
    "\n",
    "plt.figure(figsize=(12, 6))\n",
    "plt.plot(epochs_list, train_losses, label='Total Train Loss')\n",
    "plt.plot(epochs_list, train_losses_cls, label='Train Loss_cls')\n",
    "plt.plot(epochs_list, train_losses_div, label='Train Loss_div')\n",
    "plt.plot(epochs_list, train_losses_cos, label='Train Loss_cos')\n",
    "plt.plot(epochs_list, eval_losses, label='Validation Loss')\n",
    "\n",
    "plt.title('Training and Validation Losses for even model')\n",
    "plt.xlabel('Epochs')\n",
    "plt.ylabel('Loss')\n",
    "plt.legend()\n",
    "plt.show()"
   ]
  },
  {
   "cell_type": "code",
   "execution_count": 37,
   "id": "0f7ee4d5-2fc2-419f-bcde-063181974312",
   "metadata": {},
   "outputs": [
    {
     "data": {
      "image/png": "[encoded data removed]",
      "text/plain": [
       "<Figure size 1200x600 with 1 Axes>"
      ]
     },
     "metadata": {},
     "output_type": "display_data"
    }
   ],
   "source": [
    "import matplotlib.pyplot as plt\n",
    "# Plotting\n",
    "epochs_list = range(1, num_epochs + 1)\n",
    "\n",
    "plt.figure(figsize=(12, 6))\n",
    "plt.plot(epochs_list, train_losses_odd, label='Total Train Loss')\n",
    "plt.plot(epochs_list, train_losses_cls_odd, label='Train Loss_cls')\n",
    "plt.plot(epochs_list, train_losses_div_odd, label='Train Loss_div')\n",
    "plt.plot(epochs_list, train_losses_cos_odd, label='Train Loss_cos')\n",
    "plt.plot(epochs_list, eval_losses_odd, label='Validation Loss')\n",
    "\n",
    "plt.title('Training and Validation Losses for odd model')\n",
    "plt.xlabel('Epochs')\n",
    "plt.ylabel('Loss')\n",
    "plt.legend()\n",
    "plt.show()"
   ]
  },
  {
   "cell_type": "markdown",
   "id": "acd6839f-ad0d-49e8-b5ce-f171ef6852c4",
   "metadata": {},
   "source": [
    "**Excluding the data being imbalanced in the validation set the even and odd layers follow the same pattren**"
   ]
  },
  {
   "cell_type": "markdown",
   "id": "70d4e767-756a-4271-a317-e541bfcf1631",
   "metadata": {},
   "source": [
    "## Task3 LoRA implementation"
   ]
  },
  {
   "cell_type": "code",
   "execution_count": 36,
   "id": "064b85ec-f236-4955-90c5-127438f5036b",
   "metadata": {},
   "outputs": [],
   "source": [
    "import torch\n",
    "import torch.nn as nn\n",
    "import torch.nn.functional as F\n",
    "\n",
    "# LoRA class definition\n",
    "class LoRA(nn.Module):\n",
    "    def __init__(self, layer, r=4):\n",
    "        \"\"\"\n",
    "        Apply LoRA to a given layer.\n",
    "        `r` is the rank of the low-rank update (this can be adjusted)\n",
    "        \"\"\"\n",
    "        super(LoRA, self).__init__()\n",
    "        self.layer = layer\n",
    "        self.r = r\n",
    "        \n",
    "        # Create low-rank matrices (for LoRA)\n",
    "        self.A = nn.Parameter(torch.randn(self.layer.weight.size(0), self.r))\n",
    "        self.B = nn.Parameter(torch.randn(self.r, self.layer.weight.size(1)))\n",
    "        \n",
    "        # Freeze original weights during training\n",
    "        self.layer.weight.requires_grad = False\n",
    "        \n",
    "    def forward(self, x):\n",
    "        # Perform the LoRA low-rank update\n",
    "        return F.linear(x, self.layer.weight + torch.matmul(self.A, self.B))\n",
    "\n",
    "# Function to apply LoRA to layers (odd/even) of the model\n",
    "def apply_lora_to_layers(student_model, odd_even=\"odd\"):\n",
    "    \"\"\"\n",
    "    Apply LoRA to odd/even layers of the student model\n",
    "    `odd_even` should be \"odd\" or \"even\"\n",
    "    \"\"\"\n",
    "    layers_to_update = []\n",
    "    layer_count = 0  # To track the layer order (odd/even)\n",
    "    \n",
    "    # Iterate over the modules to collect layers to apply LoRA to\n",
    "    for name, module in student_model.named_modules():\n",
    "        if isinstance(module, nn.Linear):\n",
    "            # Increment the layer count for each Linear layer\n",
    "            layer_count += 1\n",
    "            \n",
    "            # Apply LoRA to odd or even layers based on layer_count\n",
    "            if odd_even == \"odd\" and layer_count % 2 == 1:\n",
    "                layers_to_update.append((name, module))\n",
    "            elif odd_even == \"even\" and layer_count % 2 == 0:\n",
    "                layers_to_update.append((name, module))\n",
    "    \n",
    "    # Now, replace the layers\n",
    "    for name, module in layers_to_update:\n",
    "        student_model._modules[name] = LoRA(module)\n",
    "    \n",
    "    return student_model\n",
    "\n",
    "# Example usage in training loop:\n",
    "# Assuming `teacher_model` is a pre-trained model and `student_model` is initialized\n",
    "\n",
    "model_even.load_state_dict(torch.load(\"even_model_weights.pth\"), strict=False)\n",
    "model_odd.load_state_dict(torch.load(\"odd_model_weights.pth\"), strict=False)\n",
    "student_model_lora_odd = apply_lora_to_layers(model_odd, odd_even=\"odd\")  # Apply LoRA to odd layers\n",
    "student_model_lora_even = apply_lora_to_layers(model_even, odd_even=\"even\")  # Apply LoRA to even layers\n",
    "\n",
    "# Proceed with training the model as usual\n",
    "student_model_lora_odd=student_model_lora_odd.to(device)\n",
    "student_model_lora_even = student_model_lora_even.to(device)"
   ]
  },
  {
   "cell_type": "code",
   "execution_count": 49,
   "id": "5642b2af-b548-4ccd-98cd-4cc9442ce8b0",
   "metadata": {},
   "outputs": [],
   "source": [
    "# torch.save(model_even.state_dict(), \"even_model_weights.pth\")\n",
    "# torch.save(model_odd.state_dict(), \"odd_model_weights.pth\")"
   ]
  },
  {
   "cell_type": "code",
   "execution_count": 30,
   "id": "f5e5b4e8-be83-49d0-82c3-1a358d425270",
   "metadata": {},
   "outputs": [
    {
     "data": {
      "text/plain": [
       "BertModel(\n",
       "  (embeddings): BertEmbeddings(\n",
       "    (word_embeddings): Embedding(30522, 768, padding_idx=0)\n",
       "    (position_embeddings): Embedding(512, 768)\n",
       "    (token_type_embeddings): Embedding(2, 768)\n",
       "    (LayerNorm): LayerNorm((768,), eps=1e-12, elementwise_affine=True)\n",
       "    (dropout): Dropout(p=0.1, inplace=False)\n",
       "  )\n",
       "  (encoder): BertEncoder(\n",
       "    (layer): ModuleList(\n",
       "      (0-5): 6 x BertLayer(\n",
       "        (attention): BertAttention(\n",
       "          (self): BertSelfAttention(\n",
       "            (query): Linear(in_features=768, out_features=768, bias=True)\n",
       "            (key): Linear(in_features=768, out_features=768, bias=True)\n",
       "            (value): Linear(in_features=768, out_features=768, bias=True)\n",
       "            (dropout): Dropout(p=0.1, inplace=False)\n",
       "          )\n",
       "          (output): BertSelfOutput(\n",
       "            (dense): Linear(in_features=768, out_features=768, bias=True)\n",
       "            (LayerNorm): LayerNorm((768,), eps=1e-12, elementwise_affine=True)\n",
       "            (dropout): Dropout(p=0.1, inplace=False)\n",
       "          )\n",
       "        )\n",
       "        (intermediate): BertIntermediate(\n",
       "          (dense): Linear(in_features=768, out_features=3072, bias=True)\n",
       "          (intermediate_act_fn): GELUActivation()\n",
       "        )\n",
       "        (output): BertOutput(\n",
       "          (dense): Linear(in_features=3072, out_features=768, bias=True)\n",
       "          (LayerNorm): LayerNorm((768,), eps=1e-12, elementwise_affine=True)\n",
       "          (dropout): Dropout(p=0.1, inplace=False)\n",
       "        )\n",
       "      )\n",
       "    )\n",
       "  )\n",
       "  (pooler): BertPooler(\n",
       "    (dense): Linear(in_features=768, out_features=768, bias=True)\n",
       "    (activation): Tanh()\n",
       "  )\n",
       "  (encoder.layer.0.attention.self.query): LoRA(\n",
       "    (layer): Linear(in_features=768, out_features=768, bias=True)\n",
       "  )\n",
       "  (encoder.layer.0.attention.self.value): LoRA(\n",
       "    (layer): Linear(in_features=768, out_features=768, bias=True)\n",
       "  )\n",
       "  (encoder.layer.0.intermediate.dense): LoRA(\n",
       "    (layer): Linear(in_features=768, out_features=3072, bias=True)\n",
       "  )\n",
       "  (encoder.layer.1.attention.self.query): LoRA(\n",
       "    (layer): Linear(in_features=768, out_features=768, bias=True)\n",
       "  )\n",
       "  (encoder.layer.1.attention.self.value): LoRA(\n",
       "    (layer): Linear(in_features=768, out_features=768, bias=True)\n",
       "  )\n",
       "  (encoder.layer.1.intermediate.dense): LoRA(\n",
       "    (layer): Linear(in_features=768, out_features=3072, bias=True)\n",
       "  )\n",
       "  (encoder.layer.2.attention.self.query): LoRA(\n",
       "    (layer): Linear(in_features=768, out_features=768, bias=True)\n",
       "  )\n",
       "  (encoder.layer.2.attention.self.value): LoRA(\n",
       "    (layer): Linear(in_features=768, out_features=768, bias=True)\n",
       "  )\n",
       "  (encoder.layer.2.intermediate.dense): LoRA(\n",
       "    (layer): Linear(in_features=768, out_features=3072, bias=True)\n",
       "  )\n",
       "  (encoder.layer.3.attention.self.query): LoRA(\n",
       "    (layer): Linear(in_features=768, out_features=768, bias=True)\n",
       "  )\n",
       "  (encoder.layer.3.attention.self.value): LoRA(\n",
       "    (layer): Linear(in_features=768, out_features=768, bias=True)\n",
       "  )\n",
       "  (encoder.layer.3.intermediate.dense): LoRA(\n",
       "    (layer): Linear(in_features=768, out_features=3072, bias=True)\n",
       "  )\n",
       "  (encoder.layer.4.attention.self.query): LoRA(\n",
       "    (layer): Linear(in_features=768, out_features=768, bias=True)\n",
       "  )\n",
       "  (encoder.layer.4.attention.self.value): LoRA(\n",
       "    (layer): Linear(in_features=768, out_features=768, bias=True)\n",
       "  )\n",
       "  (encoder.layer.4.intermediate.dense): LoRA(\n",
       "    (layer): Linear(in_features=768, out_features=3072, bias=True)\n",
       "  )\n",
       "  (encoder.layer.5.attention.self.query): LoRA(\n",
       "    (layer): Linear(in_features=768, out_features=768, bias=True)\n",
       "  )\n",
       "  (encoder.layer.5.attention.self.value): LoRA(\n",
       "    (layer): Linear(in_features=768, out_features=768, bias=True)\n",
       "  )\n",
       "  (encoder.layer.5.intermediate.dense): LoRA(\n",
       "    (layer): Linear(in_features=768, out_features=3072, bias=True)\n",
       "  )\n",
       "  (pooler.dense): LoRA(\n",
       "    (layer): Linear(in_features=768, out_features=768, bias=True)\n",
       "  )\n",
       ")"
      ]
     },
     "execution_count": 30,
     "metadata": {},
     "output_type": "execute_result"
    }
   ],
   "source": [
    "student_model_lora_odd"
   ]
  },
  {
   "cell_type": "code",
   "execution_count": 51,
   "id": "82d6ce04-0b75-4c58-ac22-e60e0861c5bc",
   "metadata": {},
   "outputs": [],
   "source": [
    "for param in student_model_lora_odd.parameters():\n",
    "    param.requires_grad = False\n",
    "\n",
    "# Enable LoRA parameters to be updated\n",
    "for name, module in student_model_lora_odd.named_modules():\n",
    "    if isinstance(module, LoRA):\n",
    "        for param in module.parameters():\n",
    "            param.requires_grad = True"
   ]
  },
  {
   "cell_type": "code",
   "execution_count": 37,
   "id": "0c036aad-0c59-4eed-8614-c49d41375f94",
   "metadata": {},
   "outputs": [
    {
     "name": "stdout",
     "output_type": "stream",
     "text": [
      "Epoch 1: Train Loss: 0.2851, Train Accuracy: 0.9164\n",
      "Epoch 1: Eval Loss: 0.0231, Eval Accuracy: 0.8963\n",
      "Epoch 2: Train Loss: 0.2101, Train Accuracy: 0.9379\n",
      "Epoch 2: Eval Loss: 0.0252, Eval Accuracy: 0.9064\n",
      "Epoch 3: Train Loss: 0.1496, Train Accuracy: 0.9592\n",
      "Epoch 3: Eval Loss: 0.0316, Eval Accuracy: 0.9046\n"
     ]
    }
   ],
   "source": [
    "from torch.optim import AdamW\n",
    "import torch.nn as nn\n",
    "import torch\n",
    "\n",
    "# Initialize optimizer with a small learning rate\n",
    "criterion_cls = nn.CrossEntropyLoss()\n",
    "num_epochs = 3\n",
    "# Training loop\n",
    "def train(student_model_lora, train_dataloader, valid_dataloader, num_epochs, device):\n",
    "    optimizer = AdamW(student_model_lora.parameters(), lr=5e-5, weight_decay=0.01)\n",
    "    scheduler = torch.optim.lr_scheduler.ReduceLROnPlateau(optimizer, 'min', patience=2, factor=0.5)  # Learning rate scheduler\n",
    "    \n",
    "    for epoch in range(num_epochs):\n",
    "        student_model_lora.train()\n",
    "        \n",
    "        total_loss = 0.0\n",
    "        correct_predictions = 0\n",
    "        total_predictions = 0\n",
    "        \n",
    "        for batch in train_dataloader:\n",
    "            batch = {k: v.to(device) for k, v in batch.items()}\n",
    "            \n",
    "            input_batch = {k: v for k, v in batch.items() if k in ['input_ids', 'attention_mask', 'token_type_ids']}\n",
    "            labels = batch['labels'].to(device)\n",
    "            \n",
    "            # Forward pass\n",
    "            outputs = student_model_lora(**input_batch)\n",
    "            logits = outputs.last_hidden_state[:, 0, :]  # BERT-based: use first token as representation\n",
    "            \n",
    "            # Compute loss\n",
    "            loss_cls = criterion_cls(logits, labels)\n",
    "            \n",
    "            # Backpropagation\n",
    "            optimizer.zero_grad()\n",
    "            loss_cls.backward()\n",
    "            \n",
    "            # Gradient clipping to prevent explosion\n",
    "            torch.nn.utils.clip_grad_norm_(student_model_lora.parameters(), max_norm=1.0)\n",
    "            \n",
    "            # Optimizer step\n",
    "            optimizer.step()\n",
    "    \n",
    "            total_loss += loss_cls.item()\n",
    "            predictions = logits.argmax(dim=-1)\n",
    "            correct_predictions += (predictions == labels).sum().item()\n",
    "            total_predictions += labels.size(0)\n",
    "        \n",
    "        # Calculate average training loss and accuracy\n",
    "        train_loss = total_loss / len(train_dataloader)\n",
    "        train_accuracy = correct_predictions / total_predictions\n",
    "        \n",
    "        print(f\"Epoch {epoch + 1}: Train Loss: {train_loss:.4f}, Train Accuracy: {train_accuracy:.4f}\")\n",
    "    \n",
    "        # Evaluation phase\n",
    "        student_model_lora.eval()\n",
    "        eval_loss = 0.0\n",
    "        correct_predictions = 0\n",
    "        total_predictions = 0\n",
    "        \n",
    "        with torch.no_grad():\n",
    "            for batch in valid_dataloader:\n",
    "                batch = {k: v.to(device) for k, v in batch.items()}\n",
    "                input_batch = {k: v for k, v in batch.items() if k in ['input_ids', 'attention_mask', 'token_type_ids']}\n",
    "                labels = batch['labels'].to(device)\n",
    "    \n",
    "                outputs = student_model_lora(**input_batch)\n",
    "                logits = outputs.last_hidden_state[:, 0, :]\n",
    "                \n",
    "                # Compute loss\n",
    "                loss_cls = criterion_cls(logits, labels)\n",
    "                eval_loss += loss_cls.item()\n",
    "    \n",
    "                predictions = logits.argmax(dim=-1)\n",
    "                correct_predictions += (predictions == labels).sum().item()\n",
    "                total_predictions += labels.size(0)\n",
    "        \n",
    "        eval_accuracy = correct_predictions / total_predictions\n",
    "        eval_loss /= total_predictions  # Normalize by the number of examples\n",
    "        \n",
    "        print(f\"Epoch {epoch + 1}: Eval Loss: {eval_loss:.4f}, Eval Accuracy: {eval_accuracy:.4f}\")\n",
    "        \n",
    "        # Step the scheduler based on eval loss\n",
    "        scheduler.step(eval_loss)\n",
    "\n",
    "# Example usage\n",
    "train(student_model_lora_odd, train_dataloader, valid_dataloader, num_epochs=3, device=device)\n"
   ]
  },
  {
   "cell_type": "markdown",
   "id": "f5f9f3af-6587-4944-ac22-d72269967825",
   "metadata": {},
   "source": [
    "**The evaluation loss is increasing because our model above is overfitting in order to balanace the score**"
   ]
  },
  {
   "cell_type": "code",
   "execution_count": 39,
   "id": "b71f41d9-9fcb-4c44-8dab-00387a104ef6",
   "metadata": {},
   "outputs": [
    {
     "name": "stdout",
     "output_type": "stream",
     "text": [
      "Epoch 1: Train Loss: 0.2847, Train Accuracy: 0.9172\n",
      "Epoch 1: Eval Loss: 0.0242, Eval Accuracy: 0.8897\n",
      "Epoch 2: Train Loss: 0.1971, Train Accuracy: 0.9412\n",
      "Epoch 2: Eval Loss: 0.0278, Eval Accuracy: 0.8876\n",
      "Epoch 3: Train Loss: 0.1357, Train Accuracy: 0.9654\n",
      "Epoch 3: Eval Loss: 0.0344, Eval Accuracy: 0.8983\n"
     ]
    }
   ],
   "source": [
    "train(student_model_lora_even, train_dataloader, valid_dataloader, num_epochs=3, device=device)"
   ]
  },
  {
   "cell_type": "markdown",
   "id": "6cf7d8bd-b760-40a8-9148-c1028c7fe7e5",
   "metadata": {},
   "source": [
    "**Similar pattren but close the evaluation loss is fluctuating**"
   ]
  },
  {
   "cell_type": "markdown",
   "id": "fe76518c-47a9-4c7e-abc7-d1e0eeb8ff65",
   "metadata": {},
   "source": [
    "**Analysis of Lora with initiallized even and odd distilled model on test data**"
   ]
  },
  {
   "cell_type": "code",
   "execution_count": 56,
   "id": "ba917d81-551e-4dd0-b8bd-19416fbec600",
   "metadata": {},
   "outputs": [
    {
     "name": "stdout",
     "output_type": "stream",
     "text": [
      "Eval Loss: 0.0346\n",
      "Eval Loss: 0.0324\n"
     ]
    },
    {
     "data": {
      "image/png": "[encoded data removed]",
      "text/plain": [
       "<Figure size 1000x600 with 4 Axes>"
      ]
     },
     "metadata": {},
     "output_type": "display_data"
    }
   ],
   "source": [
    "from sklearn.metrics import confusion_matrix, classification_report\n",
    "import seaborn as sns\n",
    "import matplotlib.pyplot as plt\n",
    "\n",
    "# Evaluate predictions\n",
    "def confusion_matrix_(model):\n",
    "    eval_loss = 0.0\n",
    "    correct_predictions = 0\n",
    "    total_predictions = 0\n",
    "    with torch.no_grad():\n",
    "        all_preds = []\n",
    "        all_labels = []\n",
    "        for batch in test_dataloader:\n",
    "            inputs = {k: v.to(device) for k, v in batch.items() if k != 'labels'}\n",
    "            labels = batch['labels'].to(device)\n",
    "            outputs = model(**inputs)\n",
    "            logits = outputs.last_hidden_state[:, 0, :]\n",
    "            predictions = logits.argmax(dim=-1)\n",
    "            loss_cls = criterion_cls(logits, labels)\n",
    "            eval_loss += loss_cls.item()\n",
    "            correct_predictions += (predictions == labels).sum().item()\n",
    "            total_predictions += labels.size(0)\n",
    "            \n",
    "            all_preds.extend(predictions.cpu().numpy())\n",
    "            all_labels.extend(labels.cpu().numpy())\n",
    "        eval_accuracy = correct_predictions / total_predictions\n",
    "        eval_loss /= total_predictions  # Normalize by the number of examples\n",
    "        print(f\"Eval Loss: {eval_loss:.4f}\")\n",
    "    return all_labels, all_preds\n",
    "\n",
    "# Confusion matrix and classification report\n",
    "all_labels_even, all_preds_even=confusion_matrix_(student_model_lora_even)\n",
    "all_labels_odd, all_preds_odd=confusion_matrix_(student_model_lora_odd)\n",
    "\n",
    "cm_even = confusion_matrix(all_labels_even, all_preds_even)\n",
    "cm_odd = confusion_matrix(all_labels_odd, all_preds_odd)\n",
    "fig, ax =plt.subplots(1,2, figsize=(10, 6))\n",
    "sns.heatmap(cm_even, annot=True, fmt='d', cmap='Blues', ax=ax[0])\n",
    "sns.heatmap(cm_odd, annot=True, fmt = 'd', cmap='Blues', ax = ax[1])\n",
    "\n",
    "ax[0].set_title('Confusion Matrix for even')\n",
    "ax[1].set_title(\"Confusion Matrix for odd\")\n",
    "plt.show()"
   ]
  },
  {
   "cell_type": "code",
   "execution_count": 59,
   "id": "2f16df57-c0e7-4547-b553-a396fc1b8617",
   "metadata": {},
   "outputs": [
    {
     "data": {
      "text/html": [
       "<div>\n",
       "<style scoped>\n",
       "    .dataframe tbody tr th:only-of-type {\n",
       "        vertical-align: middle;\n",
       "    }\n",
       "\n",
       "    .dataframe tbody tr th {\n",
       "        vertical-align: top;\n",
       "    }\n",
       "\n",
       "    .dataframe thead th {\n",
       "        text-align: right;\n",
       "    }\n",
       "</style>\n",
       "<table border=\"1\" class=\"dataframe\">\n",
       "  <thead>\n",
       "    <tr style=\"text-align: right;\">\n",
       "      <th></th>\n",
       "      <th>Model Type</th>\n",
       "      <th>Traning Loss</th>\n",
       "      <th>Test Set Performance</th>\n",
       "    </tr>\n",
       "  </thead>\n",
       "  <tbody>\n",
       "    <tr>\n",
       "      <th>0</th>\n",
       "      <td>even_distilled</td>\n",
       "      <td>0.6212</td>\n",
       "      <td>0.9250</td>\n",
       "    </tr>\n",
       "    <tr>\n",
       "      <th>1</th>\n",
       "      <td>odd_distilled</td>\n",
       "      <td>0.6068</td>\n",
       "      <td>0.8910</td>\n",
       "    </tr>\n",
       "    <tr>\n",
       "      <th>2</th>\n",
       "      <td>even_lora_init</td>\n",
       "      <td>0.1357</td>\n",
       "      <td>0.0346</td>\n",
       "    </tr>\n",
       "    <tr>\n",
       "      <th>3</th>\n",
       "      <td>odd_lora_init</td>\n",
       "      <td>0.1496</td>\n",
       "      <td>0.0324</td>\n",
       "    </tr>\n",
       "  </tbody>\n",
       "</table>\n",
       "</div>"
      ],
      "text/plain": [
       "       Model Type Traning Loss Test Set Performance\n",
       "0  even_distilled       0.6212               0.9250\n",
       "1   odd_distilled       0.6068               0.8910\n",
       "2  even_lora_init       0.1357               0.0346\n",
       "3   odd_lora_init       0.1496               0.0324"
      ]
     },
     "metadata": {},
     "output_type": "display_data"
    }
   ],
   "source": [
    "from IPython.display import display, HTML\n",
    "import pandas as pd\n",
    "v=pd.DataFrame(columns =['Model Type', 'Traning Loss', 'Test Set Performance'])\n",
    "v['Model Type'] = ['even_distilled', 'odd_distilled', 'even_lora_init', 'odd_lora_init']\n",
    "v['Traning Loss'] = ['0.6212', '0.6068', ' 0.1357', '0.1496']\n",
    "v['Test Set Performance'] = ['0.9250', '0.8910', '0.0346', '0.0324']\n",
    "display(v)"
   ]
  },
  {
   "cell_type": "code",
   "execution_count": 60,
   "id": "1f1c92bd-1224-43ed-85db-6dfaeb1cc025",
   "metadata": {},
   "outputs": [],
   "source": [
    "#save the models\n",
    "\n",
    "torch.save(student_model_lora_even, \"student_model_lora_even\")\n",
    "torch.save(student_model_lora_odd, \"student_model_lora_odd\")\n",
    "\n",
    "torch.save(student_model_lora_even.state_dict(), \"lora_even_weight.pth\")\n",
    "torch.save(student_model_lora_odd.state_dict(), \"lora_odd_weights.pth\")"
   ]
  },
  {
   "cell_type": "code",
   "execution_count": 87,
   "id": "644a3910-8a78-4b96-9288-51959a57dcdf",
   "metadata": {},
   "outputs": [],
   "source": [
    "def load_lora_model(model_path, i,weights_path, odd_even=\"odd\", r=4, device='cuda'):\n",
    "    \"\"\"\n",
    "    Load a pre-trained model and apply LoRA to its layers.\n",
    "    `odd_even` should be \"odd\" or \"even\".\n",
    "    \"\"\"\n",
    "    # Load the pre-trained model (assuming it's a BERT model or similar)\n",
    "    model_weights = torch.load(i)\n",
    "    model = torch.load(model_path, weights_only=False)\n",
    "    model.load_state_dict(model_weights, strict=False)\n",
    "\n",
    "    # Apply LoRA to either odd or even layers\n",
    "    model_lora = apply_lora_to_layers(model, odd_even=odd_even)\n",
    "    \n",
    "    # Load the weights (LoRA weights and original model weights)\n",
    "    model_lora.load_state_dict(torch.load(weights_path), strict=False)\n",
    "    \n",
    "    # Move the model to the desired device (GPU or CPU)\n",
    "    model_lora = model_lora.to(device)\n",
    "    \n",
    "    return model_lora\n",
    "\n",
    "model=load_lora_model(\"odd_model\", i = \"odd_model_weights.pth\", weights_path=\"lora_odd_weights.pth\")\n",
    "model = model.to(\"cpu\")"
   ]
  },
  {
   "cell_type": "code",
   "execution_count": 88,
   "id": "807878c5-07dc-4e23-9cb0-7a04ae998ff6",
   "metadata": {},
   "outputs": [
    {
     "data": {
      "text/plain": [
       "BertModel(\n",
       "  (embeddings): BertEmbeddings(\n",
       "    (word_embeddings): Embedding(30522, 768, padding_idx=0)\n",
       "    (position_embeddings): Embedding(512, 768)\n",
       "    (token_type_embeddings): Embedding(2, 768)\n",
       "    (LayerNorm): LayerNorm((768,), eps=1e-12, elementwise_affine=True)\n",
       "    (dropout): Dropout(p=0.1, inplace=False)\n",
       "  )\n",
       "  (encoder): BertEncoder(\n",
       "    (layer): ModuleList(\n",
       "      (0-5): 6 x BertLayer(\n",
       "        (attention): BertAttention(\n",
       "          (self): BertSelfAttention(\n",
       "            (query): Linear(in_features=768, out_features=768, bias=True)\n",
       "            (key): Linear(in_features=768, out_features=768, bias=True)\n",
       "            (value): Linear(in_features=768, out_features=768, bias=True)\n",
       "            (dropout): Dropout(p=0.1, inplace=False)\n",
       "          )\n",
       "          (output): BertSelfOutput(\n",
       "            (dense): Linear(in_features=768, out_features=768, bias=True)\n",
       "            (LayerNorm): LayerNorm((768,), eps=1e-12, elementwise_affine=True)\n",
       "            (dropout): Dropout(p=0.1, inplace=False)\n",
       "          )\n",
       "        )\n",
       "        (intermediate): BertIntermediate(\n",
       "          (dense): Linear(in_features=768, out_features=3072, bias=True)\n",
       "          (intermediate_act_fn): GELUActivation()\n",
       "        )\n",
       "        (output): BertOutput(\n",
       "          (dense): Linear(in_features=3072, out_features=768, bias=True)\n",
       "          (LayerNorm): LayerNorm((768,), eps=1e-12, elementwise_affine=True)\n",
       "          (dropout): Dropout(p=0.1, inplace=False)\n",
       "        )\n",
       "      )\n",
       "    )\n",
       "  )\n",
       "  (pooler): BertPooler(\n",
       "    (dense): Linear(in_features=768, out_features=768, bias=True)\n",
       "    (activation): Tanh()\n",
       "  )\n",
       "  (encoder.layer.0.attention.self.query): LoRA(\n",
       "    (layer): Linear(in_features=768, out_features=768, bias=True)\n",
       "  )\n",
       "  (encoder.layer.0.attention.self.value): LoRA(\n",
       "    (layer): Linear(in_features=768, out_features=768, bias=True)\n",
       "  )\n",
       "  (encoder.layer.0.intermediate.dense): LoRA(\n",
       "    (layer): Linear(in_features=768, out_features=3072, bias=True)\n",
       "  )\n",
       "  (encoder.layer.1.attention.self.query): LoRA(\n",
       "    (layer): Linear(in_features=768, out_features=768, bias=True)\n",
       "  )\n",
       "  (encoder.layer.1.attention.self.value): LoRA(\n",
       "    (layer): Linear(in_features=768, out_features=768, bias=True)\n",
       "  )\n",
       "  (encoder.layer.1.intermediate.dense): LoRA(\n",
       "    (layer): Linear(in_features=768, out_features=3072, bias=True)\n",
       "  )\n",
       "  (encoder.layer.2.attention.self.query): LoRA(\n",
       "    (layer): Linear(in_features=768, out_features=768, bias=True)\n",
       "  )\n",
       "  (encoder.layer.2.attention.self.value): LoRA(\n",
       "    (layer): Linear(in_features=768, out_features=768, bias=True)\n",
       "  )\n",
       "  (encoder.layer.2.intermediate.dense): LoRA(\n",
       "    (layer): Linear(in_features=768, out_features=3072, bias=True)\n",
       "  )\n",
       "  (encoder.layer.3.attention.self.query): LoRA(\n",
       "    (layer): Linear(in_features=768, out_features=768, bias=True)\n",
       "  )\n",
       "  (encoder.layer.3.attention.self.value): LoRA(\n",
       "    (layer): Linear(in_features=768, out_features=768, bias=True)\n",
       "  )\n",
       "  (encoder.layer.3.intermediate.dense): LoRA(\n",
       "    (layer): Linear(in_features=768, out_features=3072, bias=True)\n",
       "  )\n",
       "  (encoder.layer.4.attention.self.query): LoRA(\n",
       "    (layer): Linear(in_features=768, out_features=768, bias=True)\n",
       "  )\n",
       "  (encoder.layer.4.attention.self.value): LoRA(\n",
       "    (layer): Linear(in_features=768, out_features=768, bias=True)\n",
       "  )\n",
       "  (encoder.layer.4.intermediate.dense): LoRA(\n",
       "    (layer): Linear(in_features=768, out_features=3072, bias=True)\n",
       "  )\n",
       "  (encoder.layer.5.attention.self.query): LoRA(\n",
       "    (layer): Linear(in_features=768, out_features=768, bias=True)\n",
       "  )\n",
       "  (encoder.layer.5.attention.self.value): LoRA(\n",
       "    (layer): Linear(in_features=768, out_features=768, bias=True)\n",
       "  )\n",
       "  (encoder.layer.5.intermediate.dense): LoRA(\n",
       "    (layer): Linear(in_features=768, out_features=3072, bias=True)\n",
       "  )\n",
       "  (pooler.dense): LoRA(\n",
       "    (layer): Linear(in_features=768, out_features=768, bias=True)\n",
       "  )\n",
       ")"
      ]
     },
     "execution_count": 88,
     "metadata": {},
     "output_type": "execute_result"
    }
   ],
   "source": [
    "model"
   ]
  },
  {
   "cell_type": "code",
   "execution_count": 85,
   "id": "47c3b83f-6134-4e90-bda2-478ad7fdbf8d",
   "metadata": {},
   "outputs": [
    {
     "name": "stdout",
     "output_type": "stream",
     "text": [
      "2\n"
     ]
    }
   ],
   "source": [
    "import torch\n",
    "from transformers import AutoTokenizer\n",
    "\n",
    "# Tokenizer and model setup\n",
    "tokenizer = AutoTokenizer.from_pretrained('bert-base-uncased')\n",
    "\n",
    "# Tokenize function to handle userinput\n",
    "def tokenize_function(example):\n",
    "    # Tokenize the input, ensuring truncation and padding\n",
    "    result = tokenizer(example, max_length=128, truncation=True, padding='max_length', return_tensors='pt')\n",
    "    return result\n",
    "\n",
    "tokenized_input = tokenize_function(\"this is nice\")\n",
    "\n",
    "with torch.no_grad():\n",
    "    outputs = model(**tokenized_input)\n",
    "    logits = outputs.last_hidden_state[:, 0, :]\n",
    "    probabilities = torch.softmax(logits, dim=-1)\n",
    "    predicted_label = logits.argmax(dim=-1).item()\n",
    "    print(predicted_label)\n",
    "    \n",
    "\n",
    "    \n"
   ]
  },
  {
   "cell_type": "code",
   "execution_count": 66,
   "id": "f5bd4784-2f83-4650-98de-06039ac6692e",
   "metadata": {},
   "outputs": [
    {
     "data": {
      "text/plain": [
       "_IncompatibleKeys(missing_keys=[], unexpected_keys=['encoder.layer.0.attention.self.query.A', 'encoder.layer.0.attention.self.query.B', 'encoder.layer.0.attention.self.query.layer.weight', 'encoder.layer.0.attention.self.query.layer.bias', 'encoder.layer.0.attention.self.value.A', 'encoder.layer.0.attention.self.value.B', 'encoder.layer.0.attention.self.value.layer.weight', 'encoder.layer.0.attention.self.value.layer.bias', 'encoder.layer.0.intermediate.dense.A', 'encoder.layer.0.intermediate.dense.B', 'encoder.layer.0.intermediate.dense.layer.weight', 'encoder.layer.0.intermediate.dense.layer.bias', 'encoder.layer.1.attention.self.query.A', 'encoder.layer.1.attention.self.query.B', 'encoder.layer.1.attention.self.query.layer.weight', 'encoder.layer.1.attention.self.query.layer.bias', 'encoder.layer.1.attention.self.value.A', 'encoder.layer.1.attention.self.value.B', 'encoder.layer.1.attention.self.value.layer.weight', 'encoder.layer.1.attention.self.value.layer.bias', 'encoder.layer.1.intermediate.dense.A', 'encoder.layer.1.intermediate.dense.B', 'encoder.layer.1.intermediate.dense.layer.weight', 'encoder.layer.1.intermediate.dense.layer.bias', 'encoder.layer.2.attention.self.query.A', 'encoder.layer.2.attention.self.query.B', 'encoder.layer.2.attention.self.query.layer.weight', 'encoder.layer.2.attention.self.query.layer.bias', 'encoder.layer.2.attention.self.value.A', 'encoder.layer.2.attention.self.value.B', 'encoder.layer.2.attention.self.value.layer.weight', 'encoder.layer.2.attention.self.value.layer.bias', 'encoder.layer.2.intermediate.dense.A', 'encoder.layer.2.intermediate.dense.B', 'encoder.layer.2.intermediate.dense.layer.weight', 'encoder.layer.2.intermediate.dense.layer.bias', 'encoder.layer.3.attention.self.query.A', 'encoder.layer.3.attention.self.query.B', 'encoder.layer.3.attention.self.query.layer.weight', 'encoder.layer.3.attention.self.query.layer.bias', 'encoder.layer.3.attention.self.value.A', 'encoder.layer.3.attention.self.value.B', 'encoder.layer.3.attention.self.value.layer.weight', 'encoder.layer.3.attention.self.value.layer.bias', 'encoder.layer.3.intermediate.dense.A', 'encoder.layer.3.intermediate.dense.B', 'encoder.layer.3.intermediate.dense.layer.weight', 'encoder.layer.3.intermediate.dense.layer.bias', 'encoder.layer.4.attention.self.query.A', 'encoder.layer.4.attention.self.query.B', 'encoder.layer.4.attention.self.query.layer.weight', 'encoder.layer.4.attention.self.query.layer.bias', 'encoder.layer.4.attention.self.value.A', 'encoder.layer.4.attention.self.value.B', 'encoder.layer.4.attention.self.value.layer.weight', 'encoder.layer.4.attention.self.value.layer.bias', 'encoder.layer.4.intermediate.dense.A', 'encoder.layer.4.intermediate.dense.B', 'encoder.layer.4.intermediate.dense.layer.weight', 'encoder.layer.4.intermediate.dense.layer.bias', 'encoder.layer.5.attention.self.query.A', 'encoder.layer.5.attention.self.query.B', 'encoder.layer.5.attention.self.query.layer.weight', 'encoder.layer.5.attention.self.query.layer.bias', 'encoder.layer.5.attention.self.value.A', 'encoder.layer.5.attention.self.value.B', 'encoder.layer.5.attention.self.value.layer.weight', 'encoder.layer.5.attention.self.value.layer.bias', 'encoder.layer.5.intermediate.dense.A', 'encoder.layer.5.intermediate.dense.B', 'encoder.layer.5.intermediate.dense.layer.weight', 'encoder.layer.5.intermediate.dense.layer.bias', 'pooler.dense.A', 'pooler.dense.B', 'pooler.dense.layer.weight', 'pooler.dense.layer.bias', 'encoder.layer.0.attention.self.query.weight', 'encoder.layer.0.attention.self.query.bias', 'encoder.layer.0.attention.self.value.weight', 'encoder.layer.0.attention.self.value.bias', 'encoder.layer.0.intermediate.dense.weight', 'encoder.layer.0.intermediate.dense.bias', 'encoder.layer.1.attention.self.query.weight', 'encoder.layer.1.attention.self.query.bias', 'encoder.layer.1.attention.self.value.weight', 'encoder.layer.1.attention.self.value.bias', 'encoder.layer.1.intermediate.dense.weight', 'encoder.layer.1.intermediate.dense.bias', 'encoder.layer.2.attention.self.query.weight', 'encoder.layer.2.attention.self.query.bias', 'encoder.layer.2.attention.self.value.weight', 'encoder.layer.2.attention.self.value.bias', 'encoder.layer.2.intermediate.dense.weight', 'encoder.layer.2.intermediate.dense.bias', 'encoder.layer.3.attention.self.query.weight', 'encoder.layer.3.attention.self.query.bias', 'encoder.layer.3.attention.self.value.weight', 'encoder.layer.3.attention.self.value.bias', 'encoder.layer.3.intermediate.dense.weight', 'encoder.layer.3.intermediate.dense.bias', 'encoder.layer.4.attention.self.query.weight', 'encoder.layer.4.attention.self.query.bias', 'encoder.layer.4.attention.self.value.weight', 'encoder.layer.4.attention.self.value.bias', 'encoder.layer.4.intermediate.dense.weight', 'encoder.layer.4.intermediate.dense.bias', 'encoder.layer.5.attention.self.query.weight', 'encoder.layer.5.attention.self.query.bias', 'encoder.layer.5.attention.self.value.weight', 'encoder.layer.5.attention.self.value.bias', 'encoder.layer.5.intermediate.dense.weight', 'encoder.layer.5.intermediate.dense.bias', 'pooler.dense.weight', 'pooler.dense.bias'])"
      ]
     },
     "execution_count": 66,
     "metadata": {},
     "output_type": "execute_result"
    }
   ],
   "source": [
    "model_even=torch.load(\"student_model_lora_odd\", weights_only=False)\n",
    "model_even.load_state_dict(torch.load(\"lora_odd_weights.pth\"), strict=False)"
   ]
  },
  {
   "cell_type": "markdown",
   "id": "5c1997be-147e-45ee-90cc-336998029d8a",
   "metadata": {},
   "source": [
    "## challanges and insights"
   ]
  },
  {
   "cell_type": "markdown",
   "id": "66ce9cd5-8c9c-474a-9f3c-c528e26531ae",
   "metadata": {},
   "source": [
    "* The primary challange is to stop BERT to not overfit, the model tend to overfit, even though we tried various way after removing the lr_scheduler the performance was worst the learning become so slow, this was true for both even and model\n",
    "* with distiled training we tried to as decay the able to control the overfit\n",
    "* with the Lora model the performance start imporving but was strange at first because we obeserve exploding gradients, and we did some research regarding this the finding was that the smaller model tend to have exploding gradings and overfit quickers we use gradient clipping to mitigite.\n",
    "* The performance of lora looks like stabelizing the performance since the models are overfitting the evaluation loss is fluctuating but the accuracy still reduced there could two resons since lora is low rank decompotion it tend to learn the petterens of imbalance size classes and the model tend to have better accuracy"
   ]
  },
  {
   "cell_type": "markdown",
   "id": "5ecece80-d503-429a-9bce-c106764ed7cc",
   "metadata": {},
   "source": [
    "---"
   ]
  }
 ],
 "metadata": {
  "kernelspec": {
   "display_name": "Python 3 (ipykernel)",
   "language": "python",
   "name": "python3"
  },
  "language_info": {
   "codemirror_mode": {
    "name": "ipython",
    "version": 3
   },
   "file_extension": ".py",
   "mimetype": "text/x-python",
   "name": "python",
   "nbconvert_exporter": "python",
   "pygments_lexer": "ipython3",
   "version": "3.12.6"
  }
 },
 "nbformat": 4,
 "nbformat_minor": 5
}
